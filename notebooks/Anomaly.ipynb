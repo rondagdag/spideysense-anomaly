{
 "cells": [
  {
   "cell_type": "code",
   "execution_count": null,
   "metadata": {
    "dotnet_interactive": {
     "language": "csharp"
    }
   },
   "outputs": [
    {
     "data": {
      "text/html": [
       "\r\n",
       "<div>\r\n",
       "    <div id='dotnet-interactive-this-cell-956.Microsoft.DotNet.Interactive.Http.HttpPort' style='display: none'>\r\n",
       "        The below script needs to be able to find the current output cell; this is an easy method to get it.\r\n",
       "    </div>\r\n",
       "    <script type='text/javascript'>\r\n",
       "async function probeAddresses(probingAddresses) {\r\n",
       "    function timeout(ms, promise) {\r\n",
       "        return new Promise(function (resolve, reject) {\r\n",
       "            setTimeout(function () {\r\n",
       "                reject(new Error('timeout'))\r\n",
       "            }, ms)\r\n",
       "            promise.then(resolve, reject)\r\n",
       "        })\r\n",
       "    }\r\n",
       "\r\n",
       "    if (Array.isArray(probingAddresses)) {\r\n",
       "        for (let i = 0; i < probingAddresses.length; i++) {\r\n",
       "\r\n",
       "            let rootUrl = probingAddresses[i];\r\n",
       "\r\n",
       "            if (!rootUrl.endsWith('/')) {\r\n",
       "                rootUrl = `${rootUrl}/`;\r\n",
       "            }\r\n",
       "\r\n",
       "            try {\r\n",
       "                let response = await timeout(1000, fetch(`${rootUrl}discovery`, {\r\n",
       "                    method: 'POST',\r\n",
       "                    cache: 'no-cache',\r\n",
       "                    mode: 'cors',\r\n",
       "                    timeout: 1000,\r\n",
       "                    headers: {\r\n",
       "                        'Content-Type': 'text/plain'\r\n",
       "                    },\r\n",
       "                    body: probingAddresses[i]\r\n",
       "                }));\r\n",
       "\r\n",
       "                if (response.status == 200) {\r\n",
       "                    return rootUrl;\r\n",
       "                }\r\n",
       "            }\r\n",
       "            catch (e) { }\r\n",
       "        }\r\n",
       "    }\r\n",
       "}\r\n",
       "\r\n",
       "function loadDotnetInteractiveApi() {\r\n",
       "    probeAddresses([\"http://192.168.1.44:1024/\", \"http://127.0.0.1:1024/\"])\r\n",
       "        .then((root) => {\r\n",
       "        // use probing to find host url and api resources\r\n",
       "        // load interactive helpers and language services\r\n",
       "        let dotnetInteractiveRequire = require.config({\r\n",
       "        context: '956.Microsoft.DotNet.Interactive.Http.HttpPort',\r\n",
       "                paths:\r\n",
       "            {\r\n",
       "                'dotnet-interactive': `${root}resources`\r\n",
       "                }\r\n",
       "        }) || require;\r\n",
       "\r\n",
       "            window.dotnetInteractiveRequire = dotnetInteractiveRequire;\r\n",
       "\r\n",
       "            window.configureRequireFromExtension = function(extensionName, extensionCacheBuster) {\r\n",
       "                let paths = {};\r\n",
       "                paths[extensionName] = `${root}extensions/${extensionName}/resources/`;\r\n",
       "                \r\n",
       "                let internalRequire = require.config({\r\n",
       "                    context: extensionCacheBuster,\r\n",
       "                    paths: paths,\r\n",
       "                    urlArgs: `cacheBuster=${extensionCacheBuster}`\r\n",
       "                    }) || require;\r\n",
       "\r\n",
       "                return internalRequire\r\n",
       "            };\r\n",
       "        \r\n",
       "            dotnetInteractiveRequire([\r\n",
       "                    'dotnet-interactive/dotnet-interactive'\r\n",
       "                ],\r\n",
       "                function (dotnet) {\r\n",
       "                    dotnet.init(window);\r\n",
       "                },\r\n",
       "                function (error) {\r\n",
       "                    console.log(error);\r\n",
       "                }\r\n",
       "            );\r\n",
       "        })\r\n",
       "        .catch(error => {console.log(error);});\r\n",
       "    }\r\n",
       "\r\n",
       "// ensure `require` is available globally\r\n",
       "if ((typeof(require) !==  typeof(Function)) || (typeof(require.config) !== typeof(Function))) {\r\n",
       "    let require_script = document.createElement('script');\r\n",
       "    require_script.setAttribute('src', 'https://cdnjs.cloudflare.com/ajax/libs/require.js/2.3.6/require.min.js');\r\n",
       "    require_script.setAttribute('type', 'text/javascript');\r\n",
       "    \r\n",
       "    \r\n",
       "    require_script.onload = function() {\r\n",
       "        loadDotnetInteractiveApi();\r\n",
       "    };\r\n",
       "\r\n",
       "    document.getElementsByTagName('head')[0].appendChild(require_script);\r\n",
       "}\r\n",
       "else {\r\n",
       "    loadDotnetInteractiveApi();\r\n",
       "}\r\n",
       "\r\n",
       "    </script>\r\n",
       "</div>"
      ]
     },
     "metadata": {},
     "output_type": "display_data"
    },
    {
     "data": {
      "text/plain": [
       "Installed package UnitsNet version 4.82.0"
      ]
     },
     "metadata": {},
     "output_type": "display_data"
    },
    {
     "data": {
      "text/plain": [
       "Installed package System.Device.Gpio version 1.3.0"
      ]
     },
     "metadata": {},
     "output_type": "display_data"
    },
    {
     "data": {
      "text/plain": [
       "Installed package IoT.Device.Bindings version 1.3.0"
      ]
     },
     "metadata": {},
     "output_type": "display_data"
    }
   ],
   "source": [
    "#r \"nuget:System.Device.Gpio,1.3\"\n",
    "#r \"nuget:IoT.Device.Bindings,1.3\"\n",
    "#r \"nuget:UnitsNet,4.82.0\""
   ]
  },
  {
   "cell_type": "code",
   "execution_count": null,
   "metadata": {
    "dotnet_interactive": {
     "language": "csharp"
    }
   },
   "outputs": [],
   "source": [
    "#pragma warning disable CS1702\n",
    "using Iot.Device.SenseHat;\n",
    "using System;\n",
    "using System.Drawing;\n",
    "using (var ledMatrix = new SenseHatLedMatrixI2c())\n",
    "{\n",
    "        ledMatrix.Fill(Color.Black);\n",
    "}"
   ]
  },
  {
   "cell_type": "code",
   "execution_count": null,
   "metadata": {
    "dotnet_interactive": {
     "language": "csharp"
    }
   },
   "outputs": [],
   "source": [
    "async IAsyncEnumerable<double> ReadTemperatureAsync(int count = 10){   \n",
    "    using (var sh = new SenseHat())\n",
    "    {\n",
    "        for (var i = 0; i < count; i++){\n",
    "            yield return (sh.Temperature2.DegreesFahrenheit);\n",
    "            await Task.Delay(60000);\n",
    "        }\n",
    "    };\n",
    "}"
   ]
  },
  {
   "cell_type": "code",
   "execution_count": null,
   "metadata": {
    "dotnet_interactive": {
     "language": "csharp"
    }
   },
   "outputs": [],
   "source": [
    "using System;\n",
    "var temperatures = new List<(DateTime dt, double val)>();\n"
   ]
  },
  {
   "cell_type": "code",
   "execution_count": null,
   "metadata": {
    "dotnet_interactive": {
     "language": "csharp"
    }
   },
   "outputs": [],
   "source": [
    "DateTime RoundUp(DateTime dt, TimeSpan d)\n",
    "{\n",
    "    return new DateTime((dt.Ticks + d.Ticks - 1) / d.Ticks * d.Ticks, dt.Kind);\n",
    "}"
   ]
  },
  {
   "cell_type": "code",
   "execution_count": null,
   "metadata": {
    "dotnet_interactive": {
     "language": "csharp"
    }
   },
   "outputs": [
    {
     "name": "stdout",
     "output_type": "stream",
     "text": [
      "2/23/2021 9:32:00 PM : 108.5\n",
      "2/23/2021 9:33:00 PM : 91.77124862670897\n",
      "2/23/2021 9:34:00 PM : 92.99375228881834\n",
      "2/23/2021 9:35:00 PM : 94.24249954223632\n",
      "2/23/2021 9:36:00 PM : 95.34124908447265\n",
      "2/23/2021 9:37:00 PM : 95.67125091552734\n",
      "2/23/2021 9:38:00 PM : 96.6949981689453\n",
      "2/23/2021 9:39:00 PM : 97.19000091552734\n",
      "2/23/2021 9:40:00 PM : 97.34750366210936\n",
      "2/23/2021 9:41:00 PM : 97.91750183105468\n",
      "2/23/2021 9:42:00 PM : 98.397501373291\n",
      "2/23/2021 9:43:00 PM : 98.58124771118163\n",
      "2/23/2021 9:44:00 PM : 98.93000183105468\n",
      "2/23/2021 9:45:00 PM : 99.26000366210937\n",
      "2/23/2021 9:46:00 PM : 99.22249908447264\n"
     ]
    }
   ],
   "source": [
    "await foreach (var result in ReadTemperatureAsync(15))\n",
    "{\n",
    "    var t = RoundUp(DateTime.Now, TimeSpan.FromMinutes(1));\n",
    "    Console.WriteLine(t + \" : \" + result);\n",
    "    temperatures.Add((t, result));\n",
    "}"
   ]
  },
  {
   "cell_type": "code",
   "execution_count": null,
   "metadata": {
    "dotnet_interactive": {
     "language": "csharp"
    }
   },
   "outputs": [
    {
     "data": {
      "text/plain": [
       "Installed package Microsoft.Azure.CognitiveServices.AnomalyDetector version 1.0.0"
      ]
     },
     "metadata": {},
     "output_type": "display_data"
    }
   ],
   "source": [
    "#r \"nuget:Microsoft.Azure.CognitiveServices.AnomalyDetector\""
   ]
  },
  {
   "cell_type": "code",
   "execution_count": null,
   "metadata": {
    "dotnet_interactive": {
     "language": "csharp"
    }
   },
   "outputs": [],
   "source": [
    "using Microsoft.Azure.CognitiveServices.AnomalyDetector;\n",
    "using Microsoft.Azure.CognitiveServices.AnomalyDetector.Models;\n",
    "using System.Collections;\n",
    "using Point = Microsoft.Azure.CognitiveServices.AnomalyDetector.Models.Point;\n",
    "\n",
    "Request GetSeries(List<(DateTime dt, double val)> list)\n",
    "{\n",
    "    var points = list\n",
    "        // .TakeLast(take)\n",
    "        .Select(e => new Point(e.dt,e.val)).ToList();\n",
    "    Console.WriteLine(points);\n",
    "    return new Request(points, Granularity.Minutely, period: 1); \n",
    "}"
   ]
  },
  {
   "cell_type": "code",
   "execution_count": null,
   "metadata": {
    "dotnet_interactive": {
     "language": "csharp"
    }
   },
   "outputs": [],
   "source": [
    "async Task<bool> LastDetectSampleAsync(IAnomalyDetectorClient client, Request request)\n",
    "{\n",
    "\n",
    "    Console.WriteLine(\"Detecting the anomaly status of the latest point in the series.\");\n",
    "    LastDetectResponse result = await client.LastDetectAsync(request);\n",
    "    return result.IsAnomaly;\n",
    "}"
   ]
  },
  {
   "cell_type": "markdown",
   "metadata": {},
   "source": [
    "To get Endpoint and Key values, create Anomaly Detector in Azure Portal. https://ms.portal.azure.com/#create/Microsoft.CognitiveServicesAnomalyDetector\n"
   ]
  },
  {
   "cell_type": "markdown",
   "metadata": {},
   "source": [
    "To create a cognitive services service and get the key\n",
    "```\n",
    "\n",
    "az group create \\\n",
    "    --name cognitive-services-resource-group \\\n",
    "    --location westus2\n",
    "    \n",
    "az cognitiveservices account create \\\n",
    "    --name anomaly-detector-resource \\\n",
    "    --resource-group cognitive-services-resource-group \\\n",
    "    --kind AnomalyDetector \\\n",
    "    --sku F0 \\\n",
    "    --location westus2 \\\n",
    "    --yes\n",
    "\n",
    "az cognitiveservices account keys list \\\n",
    "    --name anomaly-detector-resource \\\n",
    "    --resource-group cognitive-services-resource-group\n",
    "```"
   ]
  },
  {
   "cell_type": "code",
   "execution_count": null,
   "metadata": {
    "dotnet_interactive": {
     "language": "csharp"
    }
   },
   "outputs": [],
   "source": [
    "using System;\n",
    "using System.IO;\n",
    "using System.Text;\n",
    "\n",
    "string path = \"config.json\";\n",
    "string readText = File.ReadAllText(path);\n",
    "var dict = System.Text.Json.JsonSerializer.Deserialize<Dictionary<string, string>>(readText);\n",
    "\n",
    "string endpoint = dict[\"endpoint\"];\n",
    "string key = dict[\"subscriptionkey\"];\n"
   ]
  },
  {
   "cell_type": "code",
   "execution_count": null,
   "metadata": {
    "dotnet_interactive": {
     "language": "csharp"
    }
   },
   "outputs": [],
   "source": [
    "IAnomalyDetectorClient client = new AnomalyDetectorClient(new ApiKeyServiceClientCredentials(key))\n",
    "{\n",
    "    Endpoint = endpoint\n",
    "};"
   ]
  },
  {
   "cell_type": "code",
   "execution_count": null,
   "metadata": {
    "dotnet_interactive": {
     "language": "csharp"
    }
   },
   "outputs": [
    {
     "name": "stdout",
     "output_type": "stream",
     "text": [
      "2/23/2021 9:32:00 PM : 108.5\n",
      "2/23/2021 9:33:00 PM : 91.77124862670897\n",
      "2/23/2021 9:34:00 PM : 92.99375228881834\n",
      "2/23/2021 9:35:00 PM : 94.24249954223632\n",
      "2/23/2021 9:36:00 PM : 95.34124908447265\n",
      "2/23/2021 9:37:00 PM : 95.67125091552734\n",
      "2/23/2021 9:38:00 PM : 96.6949981689453\n",
      "2/23/2021 9:39:00 PM : 97.19000091552734\n",
      "2/23/2021 9:40:00 PM : 97.34750366210936\n",
      "2/23/2021 9:41:00 PM : 97.91750183105468\n",
      "2/23/2021 9:42:00 PM : 98.397501373291\n",
      "2/23/2021 9:43:00 PM : 98.58124771118163\n",
      "2/23/2021 9:44:00 PM : 98.93000183105468\n",
      "2/23/2021 9:45:00 PM : 99.26000366210937\n",
      "2/23/2021 9:46:00 PM : 99.22249908447264\n",
      "System.Collections.Generic.List`1[Microsoft.Azure.CognitiveServices.AnomalyDetector.Models.Point]\n",
      "Detecting the anomaly status of the latest point in the series.\n",
      "Anomaly True\n"
     ]
    }
   ],
   "source": [
    "#pragma warning disable CS1702\n",
    "foreach (var temp in temperatures)\n",
    "{\n",
    "    Console.WriteLine(temp.dt + \" : \" + temp.val);\n",
    "}\n",
    "var lastTemp = temperatures.Last();\n",
    "temperatures.Add((lastTemp.dt.AddMinutes(1) , 200));\n",
    "\n",
    "var request = GetSeries(temperatures); // The request payload with points from the data file\n",
    "var isAnomaly = await LastDetectSampleAsync(client, request);\n",
    "Console.WriteLine($\"Anomaly {isAnomaly}\");\n",
    "if (isAnomaly)\n",
    "{\n",
    "    using (var ledMatrix = new SenseHatLedMatrixI2c())\n",
    "    {\n",
    "            ledMatrix.Fill(Color.Red);\n",
    "    }\n",
    "}\n"
   ]
  },
  {
   "cell_type": "code",
   "execution_count": null,
   "metadata": {
    "dotnet_interactive": {
     "language": "csharp"
    }
   },
   "outputs": [],
   "source": [
    "#pragma warning disable CS1702\n",
    "using Iot.Device.SenseHat;\n",
    "using System;\n",
    "using System.Drawing;\n",
    "using (var ledMatrix = new SenseHatLedMatrixI2c())\n",
    "{\n",
    "        ledMatrix.Fill(Color.Black);\n",
    "}"
   ]
  },
  {
   "cell_type": "code",
   "execution_count": null,
   "metadata": {
    "dotnet_interactive": {
     "language": "csharp"
    }
   },
   "outputs": [],
   "source": []
  },
  {
   "cell_type": "code",
   "execution_count": null,
   "metadata": {
    "dotnet_interactive": {
     "language": "csharp"
    }
   },
   "outputs": [],
   "source": []
  }
 ],
 "metadata": {
  "kernelspec": {
   "display_name": ".NET (C#)",
   "language": "C#",
   "name": ".net-csharp"
  },
  "language_info": {
   "file_extension": ".cs",
   "mimetype": "text/x-csharp",
   "name": "C#",
   "pygments_lexer": "csharp",
   "version": "8.0"
  }
 },
 "nbformat": 4,
 "nbformat_minor": 4
}