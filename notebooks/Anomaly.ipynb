{
 "cells": [
  {
   "cell_type": "code",
   "execution_count": 73,
   "metadata": {},
   "outputs": [],
   "source": [
    "#r \"nuget:System.Device.Gpio,1.1.0-prerelease.20276.1\"\n",
    "#r \"nuget:IoT.Device.Bindings,1.1.0-prerelease.20276.1 \"\n",
    "#r \"nuget:UnitsNet,4.68.0\""
   ]
  },
  {
   "cell_type": "code",
   "execution_count": 74,
   "metadata": {},
   "outputs": [],
   "source": [
    "using Iot.Device.SenseHat;\n",
    "using System;\n",
    "using System.Drawing;\n",
    "using (var ledMatrix = new SenseHatLedMatrixI2c())\n",
    "{\n",
    "        ledMatrix.Fill(Color.Black);\n",
    "}"
   ]
  },
  {
   "cell_type": "code",
   "execution_count": 75,
   "metadata": {},
   "outputs": [],
   "source": [
    "async IAsyncEnumerable<double> ReadTemperatureAsync(int count = 10){   \n",
    "    using (var sh = new SenseHat())\n",
    "    {\n",
    "        for (var i = 0; i < count; i++){\n",
    "            yield return (sh.Temperature2.DegreesFahrenheit);\n",
    "            await Task.Delay(60000);\n",
    "        }\n",
    "    };\n",
    "}"
   ]
  },
  {
   "cell_type": "code",
   "execution_count": 76,
   "metadata": {},
   "outputs": [],
   "source": [
    "using System;\n",
    "var temperatures = new List<(DateTime dt, double val)>();\n"
   ]
  },
  {
   "cell_type": "code",
   "execution_count": 77,
   "metadata": {},
   "outputs": [],
   "source": [
    "DateTime RoundUp(DateTime dt, TimeSpan d)\n",
    "{\n",
    "    return new DateTime((dt.Ticks + d.Ticks - 1) / d.Ticks * d.Ticks, dt.Kind);\n",
    "}"
   ]
  },
  {
   "cell_type": "code",
   "execution_count": 78,
   "metadata": {},
   "outputs": [
    {
     "name": "stdout",
     "output_type": "stream",
     "text": [
      "8/15/2020 6:59:00 PM : 101.35999908447265\n",
      "8/15/2020 7:00:00 PM : 101.40500183105468\n",
      "8/15/2020 7:01:00 PM : 101.5324981689453\n",
      "8/15/2020 7:02:00 PM : 101.50999679565429\n",
      "8/15/2020 7:03:00 PM : 101.40875091552734\n",
      "8/15/2020 7:04:00 PM : 101.37500228881835\n",
      "8/15/2020 7:05:00 PM : 101.39374771118163\n",
      "8/15/2020 7:06:00 PM : 101.34500274658203\n",
      "8/15/2020 7:07:00 PM : 101.30374908447264\n",
      "8/15/2020 7:08:00 PM : 101.38250045776365\n",
      "8/15/2020 7:09:00 PM : 101.31875228881835\n",
      "8/15/2020 7:10:00 PM : 101.31875228881835\n",
      "8/15/2020 7:11:00 PM : 101.15750045776366\n",
      "8/15/2020 7:12:00 PM : 101.14624633789062\n",
      "8/15/2020 7:13:00 PM : 101.13125\n"
     ]
    }
   ],
   "source": [
    "await foreach (var result in ReadTemperatureAsync(15))\n",
    "{\n",
    "    var t = RoundUp(DateTime.Now, TimeSpan.FromMinutes(1));\n",
    "    Console.WriteLine(t + \" : \" + result);\n",
    "    temperatures.Add((t, result));\n",
    "}"
   ]
  },
  {
   "cell_type": "code",
   "execution_count": 79,
   "metadata": {},
   "outputs": [],
   "source": [
    "#r \"nuget:Microsoft.Azure.CognitiveServices.AnomalyDetector\""
   ]
  },
  {
   "cell_type": "code",
   "execution_count": 80,
   "metadata": {},
   "outputs": [],
   "source": [
    "using Microsoft.Azure.CognitiveServices.AnomalyDetector;\n",
    "using Microsoft.Azure.CognitiveServices.AnomalyDetector.Models;\n",
    "using System.Collections;\n",
    "using Point = Microsoft.Azure.CognitiveServices.AnomalyDetector.Models.Point;\n",
    "\n",
    "Request GetSeries(List<(DateTime dt, double val)> list)\n",
    "{\n",
    "    var points = list\n",
    "        // .TakeLast(take)\n",
    "        .Select(e => new Point(e.dt,e.val)).ToList();\n",
    "    Console.WriteLine(points);\n",
    "    return new Request(points, Granularity.Minutely, period: 1); \n",
    "}"
   ]
  },
  {
   "cell_type": "code",
   "execution_count": 81,
   "metadata": {},
   "outputs": [],
   "source": [
    "async Task<bool> LastDetectSampleAsync(IAnomalyDetectorClient client, Request request)\n",
    "{\n",
    "\n",
    "    Console.WriteLine(\"Detecting the anomaly status of the latest point in the series.\");\n",
    "    LastDetectResponse result = await client.LastDetectAsync(request);\n",
    "    return result.IsAnomaly;\n",
    "}"
   ]
  },
  {
   "cell_type": "code",
   "execution_count": 82,
   "metadata": {},
   "outputs": [],
   "source": [
    "using System;\n",
    "using System.IO;\n",
    "using System.Text;\n",
    "\n",
    "string path = \"config.json\";\n",
    "string readText = File.ReadAllText(path);\n",
    "var dict = System.Text.Json.JsonSerializer.Deserialize<Dictionary<string, string>>(readText);\n",
    "\n",
    "string endpoint = dict[\"endpoint\"];\n",
    "string key = dict[\"subscriptionkey\"];\n"
   ]
  },
  {
   "cell_type": "code",
   "execution_count": 83,
   "metadata": {},
   "outputs": [],
   "source": [
    "IAnomalyDetectorClient client = new AnomalyDetectorClient(new ApiKeyServiceClientCredentials(key))\n",
    "{\n",
    "    Endpoint = endpoint\n",
    "};"
   ]
  },
  {
   "cell_type": "code",
   "execution_count": 86,
   "metadata": {},
   "outputs": [
    {
     "name": "stdout",
     "output_type": "stream",
     "text": [
      "8/15/2020 6:59:00 PM : 101.35999908447265\n",
      "8/15/2020 7:00:00 PM : 101.40500183105468\n",
      "8/15/2020 7:01:00 PM : 101.5324981689453\n",
      "8/15/2020 7:02:00 PM : 101.50999679565429\n",
      "8/15/2020 7:03:00 PM : 101.40875091552734\n",
      "8/15/2020 7:04:00 PM : 101.37500228881835\n",
      "8/15/2020 7:05:00 PM : 101.39374771118163\n",
      "8/15/2020 7:06:00 PM : 101.34500274658203\n",
      "8/15/2020 7:07:00 PM : 101.30374908447264\n",
      "8/15/2020 7:08:00 PM : 101.38250045776365\n",
      "8/15/2020 7:09:00 PM : 101.31875228881835\n",
      "8/15/2020 7:10:00 PM : 101.31875228881835\n",
      "8/15/2020 7:11:00 PM : 101.15750045776366\n",
      "8/15/2020 7:12:00 PM : 101.14624633789062\n",
      "8/15/2020 7:13:00 PM : 101.13125\n",
      "8/15/2020 7:14:00 PM : 200\n",
      "System.Collections.Generic.List`1[Microsoft.Azure.CognitiveServices.AnomalyDetector.Models.Point]\n",
      "Detecting the anomaly status of the latest point in the series.\n",
      "Anomaly True\n"
     ]
    }
   ],
   "source": [
    "foreach (var temp in temperatures)\n",
    "{\n",
    "    Console.WriteLine(temp.dt + \" : \" + temp.val);\n",
    "}\n",
    "var lastTemp = temperatures.Last();\n",
    "temperatures.Add((lastTemp.dt.AddMinutes(1) , 200));\n",
    "\n",
    "var request = GetSeries(temperatures); // The request payload with points from the data file\n",
    "var isAnomaly = await LastDetectSampleAsync(client, request);\n",
    "Console.WriteLine($\"Anomaly {isAnomaly}\");\n",
    "if (isAnomaly)\n",
    "{\n",
    "    using (var ledMatrix = new SenseHatLedMatrixI2c())\n",
    "    {\n",
    "            ledMatrix.Fill(Color.Red);\n",
    "    }\n",
    "}\n"
   ]
  },
  {
   "cell_type": "code",
   "execution_count": 85,
   "metadata": {},
   "outputs": [],
   "source": [
    "using Iot.Device.SenseHat;\n",
    "using System;\n",
    "using System.Drawing;\n",
    "using (var ledMatrix = new SenseHatLedMatrixI2c())\n",
    "{\n",
    "        ledMatrix.Fill(Color.Black);\n",
    "}"
   ]
  },
  {
   "cell_type": "code",
   "execution_count": null,
   "metadata": {},
   "outputs": [],
   "source": []
  }
 ],
 "metadata": {
  "kernelspec": {
   "display_name": ".NET (C#)",
   "language": "C#",
   "name": ".net-csharp"
  },
  "language_info": {
   "file_extension": ".cs",
   "mimetype": "text/x-csharp",
   "name": "C#",
   "pygments_lexer": "csharp",
   "version": "8.0"
  }
 },
 "nbformat": 4,
 "nbformat_minor": 4
}
