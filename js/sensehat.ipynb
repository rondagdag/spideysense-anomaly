{
 "cells": [
  {
   "cell_type": "code",
   "execution_count": 1,
   "metadata": {},
   "outputs": [
    {
     "name": "stdout",
     "output_type": "stream",
     "text": [
      "hello\n"
     ]
    }
   ],
   "source": [
    "console.log(\"hello\");"
   ]
  },
  {
   "cell_type": "code",
   "execution_count": 2,
   "metadata": {},
   "outputs": [
    {
     "name": "stdout",
     "output_type": "stream",
     "text": [
      "Hello, tslab!\n",
      "Versions: { tslab: \u001b[32m'1.0.15'\u001b[39m, typescript: \u001b[32m'4.1.2'\u001b[39m, node: \u001b[32m'v16.2.0'\u001b[39m }\n"
     ]
    }
   ],
   "source": [
    "const tslab = require('tslab');\n",
    "console.log('Hello, tslab!')\n",
    "console.log('Versions:', tslab.versions)"
   ]
  },
  {
   "cell_type": "code",
   "execution_count": 3,
   "metadata": {},
   "outputs": [],
   "source": [
    "const matrix = require('node-sense-hat').Leds;"
   ]
  },
  {
   "cell_type": "code",
   "execution_count": 4,
   "metadata": {},
   "outputs": [],
   "source": [
    "// To fill with a single color instead\n",
    "matrix.clear([0, 1, 0]);"
   ]
  },
  {
   "cell_type": "code",
   "execution_count": 5,
   "metadata": {},
   "outputs": [
    {
     "name": "stdout",
     "output_type": "stream",
     "text": [
      "Accelleration is:  {\n",
      "  \"x\": 0.07807999849319458,\n",
      "  \"y\": -0.07002799957990646,\n",
      "  \"z\": 0.9864919781684875\n",
      "}\n",
      "Gyroscope is:  {\n",
      "  \"x\": 0.01618792861700058,\n",
      "  \"y\": 0.004581489134579897,\n",
      "  \"z\": 0.018936822190880775\n",
      "}\n",
      "Compass is:  {\n",
      "  \"x\": 2.2260000705718994,\n",
      "  \"y\": 2.069200277328491,\n",
      "  \"z\": 12.241600036621094\n",
      "}\n",
      "Fusion data is:  {\n",
      "  \"x\": -0.07086800783872604,\n",
      "  \"y\": -0.07878704369068146,\n",
      "  \"z\": -1.1620200872421265\n",
      "}\n",
      "Temp is:  \u001b[33m39.39264678955078\u001b[39m\n",
      "Pressure is:  \u001b[33m1000.621826171875\u001b[39m\n",
      "Humidity is:  \u001b[33m36.413307189941406\u001b[39m\n"
     ]
    }
   ],
   "source": [
    "const imu = require(\"node-sense-hat\").Imu;\n",
    "\n",
    "const IMU = new imu.IMU();\n",
    "\n",
    "function displayValue(err, data) {\n",
    "  if (err !== null) {\n",
    "    console.error(\"Could not read sensor data: \", err);\n",
    "    return;\n",
    "  }\n",
    "\n",
    "  console.log(\"Accelleration is: \", JSON.stringify(data.accel, null, \"  \"));\n",
    "  console.log(\"Gyroscope is: \", JSON.stringify(data.gyro, null, \"  \"));\n",
    "  console.log(\"Compass is: \", JSON.stringify(data.compass, null, \"  \"));\n",
    "  console.log(\"Fusion data is: \", JSON.stringify(data.fusionPose, null, \"  \"));\n",
    "  \n",
    "\n",
    "  console.log(\"Temp is: \", data.temperature);\n",
    "  console.log(\"Pressure is: \", data.pressure);\n",
    "  console.log(\"Humidity is: \", data.humidity);\n",
    "  \n",
    "};\n",
    "IMU.getValue(displayValue);"
   ]
  },
  {
   "cell_type": "code",
   "execution_count": 6,
   "metadata": {},
   "outputs": [],
   "source": [
    "interface Entry {\n",
    "   timestamp: Date;\n",
    "   value: number;\n",
    "}\n",
    "\n",
    "var points = Array<Entry>();"
   ]
  },
  {
   "cell_type": "code",
   "execution_count": 7,
   "metadata": {},
   "outputs": [],
   "source": [
    "\n",
    "\n",
    "function addToArray(err, data) {\n",
    "  if (err !== null) {\n",
    "    console.error(\"Could not read sensor data: \", err);\n",
    "    return;\n",
    "  }\n",
    "    \n",
    "    var coeff = 1000 * 60 * 1;\n",
    "    var date = new Date();  //or use any other date\n",
    "    var rounded = new Date(Math.round(date.getTime() / coeff) * coeff);\n",
    "    let entry = { timestamp: rounded, value: data.temperature } as Entry;\n",
    "    points.push(entry);\n",
    "};"
   ]
  },
  {
   "cell_type": "code",
   "execution_count": 8,
   "metadata": {},
   "outputs": [],
   "source": [
    "IMU.getValue(addToArray);"
   ]
  },
  {
   "cell_type": "code",
   "execution_count": 9,
   "metadata": {},
   "outputs": [
    {
     "name": "stdout",
     "output_type": "stream",
     "text": [
      "[ { timestamp: \u001b[35m2021-05-21T16:06:00.000Z\u001b[39m, value: \u001b[33m39.35735321044922\u001b[39m } ]\n"
     ]
    }
   ],
   "source": [
    "points"
   ]
  },
  {
   "cell_type": "code",
   "execution_count": 10,
   "metadata": {},
   "outputs": [
    {
     "name": "stdout",
     "output_type": "stream",
     "text": [
      "[]\n"
     ]
    }
   ],
   "source": [
    "points = []"
   ]
  },
  {
   "cell_type": "code",
   "execution_count": 11,
   "metadata": {},
   "outputs": [],
   "source": [
    "let timerID = setInterval(function() {\n",
    "    IMU.getValue(addToArray);\n",
    "}, 60 * 1000); \n"
   ]
  },
  {
   "cell_type": "code",
   "execution_count": 12,
   "metadata": {},
   "outputs": [],
   "source": [
    "let timeout = setTimeout(() => { clearInterval(timerID); console.log(points); }, 15 * 60 * 1000);\n",
    " // The setInterval it cleared and doesn't run anymore."
   ]
  },
  {
   "cell_type": "code",
   "execution_count": 13,
   "metadata": {},
   "outputs": [],
   "source": [
    "//clearInterval(timerID);"
   ]
  },
  {
   "cell_type": "code",
   "execution_count": 20,
   "metadata": {},
   "outputs": [
    {
     "name": "stdout",
     "output_type": "stream",
     "text": [
      "[\n",
      "  { timestamp: \u001b[35m2021-05-21T16:08:00.000Z\u001b[39m, value: \u001b[33m39.49852752685547\u001b[39m },\n",
      "  { timestamp: \u001b[35m2021-05-21T16:09:00.000Z\u001b[39m, value: \u001b[33m39.60441207885742\u001b[39m }\n",
      "]\n",
      "[\n",
      "  { timestamp: \u001b[35m2021-05-21T16:08:00.000Z\u001b[39m, value: \u001b[33m39.49852752685547\u001b[39m },\n",
      "  { timestamp: \u001b[35m2021-05-21T16:09:00.000Z\u001b[39m, value: \u001b[33m39.60441207885742\u001b[39m },\n",
      "  { timestamp: \u001b[35m2021-05-21T16:10:00.000Z\u001b[39m, value: \u001b[33m39.67500305175781\u001b[39m },\n",
      "  { timestamp: \u001b[35m2021-05-21T16:11:00.000Z\u001b[39m, value: \u001b[33m39.56911849975586\u001b[39m },\n",
      "  { timestamp: \u001b[35m2021-05-21T16:12:00.000Z\u001b[39m, value: \u001b[33m39.41029357910156\u001b[39m },\n",
      "  { timestamp: \u001b[35m2021-05-21T16:13:00.000Z\u001b[39m, value: \u001b[33m39.21617889404297\u001b[39m },\n",
      "  { timestamp: \u001b[35m2021-05-21T16:14:00.000Z\u001b[39m, value: \u001b[33m38.72206115722656\u001b[39m },\n",
      "  { timestamp: \u001b[35m2021-05-21T16:15:00.000Z\u001b[39m, value: \u001b[33m38.52793884277344\u001b[39m },\n",
      "  { timestamp: \u001b[35m2021-05-21T16:16:00.000Z\u001b[39m, value: \u001b[33m38.369117736816406\u001b[39m },\n",
      "  { timestamp: \u001b[35m2021-05-21T16:17:00.000Z\u001b[39m, value: \u001b[33m38.40441131591797\u001b[39m },\n",
      "  { timestamp: \u001b[35m2021-05-21T16:18:00.000Z\u001b[39m, value: \u001b[33m38.38676452636719\u001b[39m },\n",
      "  { timestamp: \u001b[35m2021-05-21T16:19:00.000Z\u001b[39m, value: \u001b[33m38.86323547363281\u001b[39m },\n",
      "  { timestamp: \u001b[35m2021-05-21T16:20:00.000Z\u001b[39m, value: \u001b[33m38.95146942138672\u001b[39m },\n",
      "  { timestamp: \u001b[35m2021-05-21T16:21:00.000Z\u001b[39m, value: \u001b[33m39.092647552490234\u001b[39m },\n",
      "  { timestamp: \u001b[35m2021-05-21T16:22:00.000Z\u001b[39m, value: \u001b[33m39.07500076293945\u001b[39m }\n",
      "]\n"
     ]
    }
   ],
   "source": [
    "points"
   ]
  },
  {
   "cell_type": "code",
   "execution_count": 21,
   "metadata": {},
   "outputs": [],
   "source": [
    "const fs = require('fs');\n",
    "const parse = require(\"csv-parse/lib/sync\");\n",
    "const { AnomalyDetectorClient } = require('@azure/ai-anomaly-detector');\n",
    "const { AzureKeyCredential } = require('@azure/core-auth');"
   ]
  },
  {
   "cell_type": "markdown",
   "metadata": {},
   "source": [
    "To create a cognitive services service and get the key\r\n",
    "```\r\n",
    "\r\n",
    "az group create \\\r\n",
    "    --name cognitive-services-resource-group \\\r\n",
    "    --location westus2\r\n",
    "    \r\n",
    "az cognitiveservices account create \\\r\n",
    "    --name anomaly-detector-resource \\\r\n",
    "    --resource-group cognitive-services-resource-group \\\r\n",
    "    --kind AnomalyDetector \\\r\n",
    "    --sku F0 \\\r\n",
    "    --location westus2 \\\r\n",
    "    --yes\r\n",
    "\r\n",
    "az cognitiveservices account keys list \\\r\n",
    "    --name anomaly-detector-resource \\\r\n",
    "    --resource-group cognitive-services-resource-group\r\n",
    "```"
   ]
  },
  {
   "cell_type": "code",
   "execution_count": 22,
   "metadata": {},
   "outputs": [],
   "source": [
    "const dotenv = require(\"dotenv\");\n",
    "dotenv.config();\n",
    "// Authentication variables\n",
    "// Add your Anomaly Detector subscription key and endpoint to your environment variables.\n",
    "const key = process.env[\"API_KEY\"] || \"\";\n",
    "const endpoint = process.env[\"ENDPOINT\"] || \"\";"
   ]
  },
  {
   "cell_type": "code",
   "execution_count": 23,
   "metadata": {},
   "outputs": [],
   "source": [
    "// <authentication>\n",
    "let anomalyDetectorClient = new AnomalyDetectorClient(endpoint, new AzureKeyCredential(key));\n",
    "// </authentication>"
   ]
  },
  {
   "cell_type": "code",
   "execution_count": 24,
   "metadata": {},
   "outputs": [
    {
     "name": "stdout",
     "output_type": "stream",
     "text": [
      "Latest point anomaly detection:\n",
      "The latest point, in row 15, is not detected as an anomaly.\n",
      "\u001b[33mfalse\u001b[39m\n"
     ]
    }
   ],
   "source": [
    "// <lastDetection>\n",
    "async function lastDetection() : Promise<boolean> {\n",
    "\n",
    "    let body = { series: points, granularity: 'minutely' }\n",
    "    // Make the call to detect anomalies in the latest point of a series\n",
    "    return await anomalyDetectorClient.detectLastPoint(body)\n",
    "        .then((response) => {\n",
    "            console.log(\"Latest point anomaly detection:\")\n",
    "            if (response.isAnomaly) {\n",
    "                console.log(\"The latest point, in row \" + points.length + \", is detected as an anomaly.\")\n",
    "                return true;\n",
    "            } else {\n",
    "                console.log(\"The latest point, in row \" + points.length + \", is not detected as an anomaly.\")\n",
    "                return false;\n",
    "            }\n",
    "        }).catch((error) => {\n",
    "            console.log(error)\n",
    "            return false;\n",
    "        })\n",
    "}\n",
    "console.log(await lastDetection());\n",
    "// </lastDetection>"
   ]
  },
  {
   "cell_type": "code",
   "execution_count": 25,
   "metadata": {},
   "outputs": [
    {
     "name": "stdout",
     "output_type": "stream",
     "text": [
      "[\n",
      "  { timestamp: \u001b[35m2021-05-21T16:08:00.000Z\u001b[39m, value: \u001b[33m39.49852752685547\u001b[39m },\n",
      "  { timestamp: \u001b[35m2021-05-21T16:09:00.000Z\u001b[39m, value: \u001b[33m39.60441207885742\u001b[39m },\n",
      "  { timestamp: \u001b[35m2021-05-21T16:10:00.000Z\u001b[39m, value: \u001b[33m39.67500305175781\u001b[39m },\n",
      "  { timestamp: \u001b[35m2021-05-21T16:11:00.000Z\u001b[39m, value: \u001b[33m39.56911849975586\u001b[39m },\n",
      "  { timestamp: \u001b[35m2021-05-21T16:12:00.000Z\u001b[39m, value: \u001b[33m39.41029357910156\u001b[39m },\n",
      "  { timestamp: \u001b[35m2021-05-21T16:13:00.000Z\u001b[39m, value: \u001b[33m39.21617889404297\u001b[39m },\n",
      "  { timestamp: \u001b[35m2021-05-21T16:14:00.000Z\u001b[39m, value: \u001b[33m38.72206115722656\u001b[39m },\n",
      "  { timestamp: \u001b[35m2021-05-21T16:15:00.000Z\u001b[39m, value: \u001b[33m38.52793884277344\u001b[39m },\n",
      "  { timestamp: \u001b[35m2021-05-21T16:16:00.000Z\u001b[39m, value: \u001b[33m38.369117736816406\u001b[39m },\n",
      "  { timestamp: \u001b[35m2021-05-21T16:17:00.000Z\u001b[39m, value: \u001b[33m38.40441131591797\u001b[39m },\n",
      "  { timestamp: \u001b[35m2021-05-21T16:18:00.000Z\u001b[39m, value: \u001b[33m38.38676452636719\u001b[39m },\n",
      "  { timestamp: \u001b[35m2021-05-21T16:19:00.000Z\u001b[39m, value: \u001b[33m38.86323547363281\u001b[39m },\n",
      "  { timestamp: \u001b[35m2021-05-21T16:20:00.000Z\u001b[39m, value: \u001b[33m38.95146942138672\u001b[39m },\n",
      "  { timestamp: \u001b[35m2021-05-21T16:21:00.000Z\u001b[39m, value: \u001b[33m39.092647552490234\u001b[39m },\n",
      "  { timestamp: \u001b[35m2021-05-21T16:22:00.000Z\u001b[39m, value: \u001b[33m39.07500076293945\u001b[39m }\n",
      "]\n"
     ]
    }
   ],
   "source": [
    "points"
   ]
  },
  {
   "cell_type": "code",
   "execution_count": 26,
   "metadata": {},
   "outputs": [],
   "source": [
    "let lastItem = points[points.length - 1]\n",
    "//let entry = { timestamp: rounded, value: data.temperature } as Entry;\n",
    "//points.push(entry);"
   ]
  },
  {
   "cell_type": "code",
   "execution_count": 27,
   "metadata": {},
   "outputs": [
    {
     "name": "stdout",
     "output_type": "stream",
     "text": [
      "{ timestamp: \u001b[35m2021-05-21T16:22:00.000Z\u001b[39m, value: \u001b[33m39.07500076293945\u001b[39m }\n"
     ]
    }
   ],
   "source": [
    "lastItem"
   ]
  },
  {
   "cell_type": "code",
   "execution_count": 28,
   "metadata": {},
   "outputs": [
    {
     "name": "stdout",
     "output_type": "stream",
     "text": [
      "\u001b[33m1621614180000\u001b[39m\n"
     ]
    }
   ],
   "source": [
    "lastItem.timestamp.setTime(lastItem.timestamp.getTime() + 1000 * 60);"
   ]
  },
  {
   "cell_type": "code",
   "execution_count": 29,
   "metadata": {},
   "outputs": [
    {
     "name": "stdout",
     "output_type": "stream",
     "text": [
      "\u001b[33m139.07500076293945\u001b[39m\n"
     ]
    }
   ],
   "source": [
    "lastItem.value = lastItem.value + 100;"
   ]
  },
  {
   "cell_type": "code",
   "execution_count": 30,
   "metadata": {},
   "outputs": [],
   "source": [
    "const O = [0, 0, 0];\n",
    "const X = [255, 0, 0];\n",
    "\n",
    "const cross = [\n",
    "\tX, O, O, O, O, O, O, X,\n",
    "\tO, X, O, O, O, O, X, O,\n",
    "\tO, O, X, O, O, X, O, O,\n",
    "\tO, O, O, X, X, O, O, O,\n",
    "\tO, O, O, X, X, O, O, O,\n",
    "\tO, O, X, O, O, X, O, O,\n",
    "\tO, X, O, O, O, O, X, O,\n",
    "\tX, O, O, O, O, O, O, X,\n",
    "];\n"
   ]
  },
  {
   "cell_type": "code",
   "execution_count": 31,
   "metadata": {},
   "outputs": [
    {
     "name": "stdout",
     "output_type": "stream",
     "text": [
      "Latest point anomaly detection:\n",
      "The latest point, in row 15, is detected as an anomaly.\n"
     ]
    }
   ],
   "source": [
    "let result = await lastDetection();\n",
    "if (result)\n",
    "{\n",
    "    matrix.setPixels(cross);\n",
    "}"
   ]
  },
  {
   "cell_type": "code",
   "execution_count": 32,
   "metadata": {},
   "outputs": [],
   "source": [
    "matrix.clear([0, 0, 0]);"
   ]
  },
  {
   "cell_type": "code",
   "execution_count": null,
   "metadata": {},
   "outputs": [],
   "source": []
  }
 ],
 "metadata": {
  "kernelspec": {
   "display_name": "TypeScript",
   "language": "typescript",
   "name": "tslab"
  },
  "language_info": {
   "name": "typescript",
   "version": ""
  }
 },
 "nbformat": 4,
 "nbformat_minor": 5
}