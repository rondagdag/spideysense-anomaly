{
 "cells": [
  {
   "cell_type": "code",
   "execution_count": 11,
   "metadata": {},
   "outputs": [],
   "source": [
    "const fs = require('fs');\n",
    "const parse = require(\"csv-parse/lib/sync\");\n",
    "const { AnomalyDetectorClient } = require('@azure/ai-anomaly-detector');\n",
    "const { AzureKeyCredential } = require('@azure/core-auth');"
   ]
  },
  {
   "cell_type": "markdown",
   "metadata": {},
   "source": [
    "To create a cognitive services service and get the key\r\n",
    "```\r\n",
    "\r\n",
    "az group create \\\r\n",
    "    --name cognitive-services-resource-group \\\r\n",
    "    --location westus2\r\n",
    "    \r\n",
    "az cognitiveservices account create \\\r\n",
    "    --name anomaly-detector-resource \\\r\n",
    "    --resource-group cognitive-services-resource-group \\\r\n",
    "    --kind AnomalyDetector \\\r\n",
    "    --sku F0 \\\r\n",
    "    --location westus2 \\\r\n",
    "    --yes\r\n",
    "\r\n",
    "az cognitiveservices account keys list \\\r\n",
    "    --name anomaly-detector-resource \\\r\n",
    "    --resource-group cognitive-services-resource-group\r\n",
    "```"
   ]
  },
  {
   "cell_type": "code",
   "execution_count": 12,
   "metadata": {},
   "outputs": [],
   "source": [
    "const dotenv = require(\"dotenv\");\n",
    "dotenv.config();\n",
    "// Authentication variables\n",
    "// Add your Anomaly Detector subscription key and endpoint to your environment variables.\n",
    "const key = process.env[\"API_KEY\"] || \"\";\n",
    "const endpoint = process.env[\"ENDPOINT\"] || \"\";"
   ]
  },
  {
   "cell_type": "code",
   "execution_count": 13,
   "metadata": {},
   "outputs": [],
   "source": [
    "//<vars>\n",
    "// Spreadsheet with 2 columns and n rows.\n",
    "let CSV_FILE = './request-data.csv';\n"
   ]
  },
  {
   "cell_type": "code",
   "execution_count": 14,
   "metadata": {},
   "outputs": [],
   "source": [
    "// Points array for the request body\n",
    "let points = [];\n",
    "//</vars>\n",
    "\n",
    "// <authentication>\n",
    "let anomalyDetectorClient = new AnomalyDetectorClient(endpoint, new AzureKeyCredential(key));\n",
    "// </authentication>\n"
   ]
  },
  {
   "cell_type": "code",
   "execution_count": 15,
   "metadata": {},
   "outputs": [],
   "source": [
    "// <readFile>\n",
    "function readFile() {\n",
    "    let input = fs.readFileSync(CSV_FILE).toString();\n",
    "    let parsed = parse(input, { skip_empty_lines: true });\n",
    "    parsed.forEach(function (e) {\n",
    "        points.push({ timestamp: new Date(e[0]), value: parseFloat(e[1]) });\n",
    "    });\n",
    "}\n",
    "readFile()\n",
    "// </readFile>\n"
   ]
  },
  {
   "cell_type": "code",
   "execution_count": 16,
   "metadata": {},
   "outputs": [
    {
     "name": "stdout",
     "output_type": "stream",
     "text": [
      "Promise { \u001b[36m<pending>\u001b[39m }\n",
      "Batch (entire) anomaly detection):\n",
      "An anomaly was detected from the series, at row 3\n",
      "An anomaly was detected from the series, at row 18\n",
      "An anomaly was detected from the series, at row 21\n",
      "An anomaly was detected from the series, at row 22\n",
      "An anomaly was detected from the series, at row 23\n",
      "An anomaly was detected from the series, at row 24\n",
      "An anomaly was detected from the series, at row 25\n",
      "An anomaly was detected from the series, at row 28\n",
      "An anomaly was detected from the series, at row 29\n",
      "An anomaly was detected from the series, at row 30\n",
      "An anomaly was detected from the series, at row 31\n",
      "An anomaly was detected from the series, at row 32\n",
      "An anomaly was detected from the series, at row 35\n",
      "An anomaly was detected from the series, at row 44\n"
     ]
    }
   ],
   "source": [
    "\n",
    "// <batchCall>\n",
    "async function batchCall() {\n",
    "    // Create request body for API call\n",
    "    let body = { series: points, granularity: 'daily' }\n",
    "    // Make the call to detect anomalies in whole series of points\n",
    "    await anomalyDetectorClient.detectEntireSeries(body)\n",
    "        .then((response) => {\n",
    "            console.log(\"Batch (entire) anomaly detection):\")\n",
    "            for (let item = 0; item < response.isAnomaly.length; item++) {\n",
    "                if (response.isAnomaly[item]) {\n",
    "                    console.log(\"An anomaly was detected from the series, at row \" + item)\n",
    "                }\n",
    "            }\n",
    "        }).catch((error) => {\n",
    "            console.log(error)\n",
    "        })\n",
    "\n",
    "}\n",
    "batchCall()\n",
    "// </batchCall>"
   ]
  },
  {
   "cell_type": "code",
   "execution_count": 17,
   "metadata": {},
   "outputs": [
    {
     "name": "stdout",
     "output_type": "stream",
     "text": [
      "Promise { \u001b[36m<pending>\u001b[39m }\n",
      "Latest point anomaly detection:\n",
      "The latest point, in row 47, is not detected as an anomaly.\n"
     ]
    }
   ],
   "source": [
    "// <lastDetection>\n",
    "async function lastDetection() {\n",
    "\n",
    "    let body = { series: points, granularity: 'daily' }\n",
    "    // Make the call to detect anomalies in the latest point of a series\n",
    "    await anomalyDetectorClient.detectLastPoint(body)\n",
    "        .then((response) => {\n",
    "            console.log(\"Latest point anomaly detection:\")\n",
    "            if (response.isAnomaly) {\n",
    "                console.log(\"The latest point, in row \" + points.length + \", is detected as an anomaly.\")\n",
    "            } else {\n",
    "                console.log(\"The latest point, in row \" + points.length + \", is not detected as an anomaly.\")\n",
    "            }\n",
    "        }).catch((error) => {\n",
    "            console.log(error)\n",
    "        })\n",
    "}\n",
    "lastDetection()\n",
    "// </lastDetection>"
   ]
  },
  {
   "cell_type": "code",
   "execution_count": 18,
   "metadata": {},
   "outputs": [
    {
     "name": "stdout",
     "output_type": "stream",
     "text": [
      "Promise { \u001b[36m<pending>\u001b[39m }\n",
      "Change points were detected from the series at index:\n",
      "\u001b[33m20\u001b[39m\n",
      "\u001b[33m27\u001b[39m\n"
     ]
    }
   ],
   "source": [
    "// <changePointDetection>\n",
    "async function changePointDetection() {\n",
    "\n",
    "    let body = { series: points, granularity: 'daily' }\n",
    "    // get change point detect results\n",
    "    await anomalyDetectorClient.detectChangePoint(body)\n",
    "        .then((response) => {\n",
    "            if (\n",
    "                response.isChangePoint.some(function (changePoint) {\n",
    "                    return changePoint === true;\n",
    "                })\n",
    "            ) {\n",
    "                console.log(\"Change points were detected from the series at index:\");\n",
    "                response.isChangePoint.forEach(function (changePoint, index) {\n",
    "                    if (changePoint === true) {\n",
    "                        console.log(index);\n",
    "                    }\n",
    "                });\n",
    "            } else {\n",
    "                console.log(\"There is no change point detected from the series.\");\n",
    "            }\n",
    "        }).catch((error) => {\n",
    "            console.log(error)\n",
    "        })\n",
    "}\n",
    "// </changePointDetection>\n",
    "changePointDetection();"
   ]
  },
  {
   "cell_type": "code",
   "execution_count": null,
   "metadata": {},
   "outputs": [],
   "source": []
  }
 ],
 "metadata": {
  "kernelspec": {
   "display_name": "TypeScript",
   "language": "typescript",
   "name": "tslab"
  },
  "language_info": {
   "name": "typescript",
   "version": ""
  }
 },
 "nbformat": 4,
 "nbformat_minor": 5
}